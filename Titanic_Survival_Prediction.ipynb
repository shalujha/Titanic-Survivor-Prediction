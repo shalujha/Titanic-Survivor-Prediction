{
  "nbformat": 4,
  "nbformat_minor": 0,
  "metadata": {
    "colab": {
      "name": "Titanic_Survival_Prediction.ipynb",
      "provenance": [],
      "authorship_tag": "ABX9TyNSwewydk0mJe9wYh5VjAWB",
      "include_colab_link": true
    },
    "kernelspec": {
      "name": "python3",
      "display_name": "Python 3"
    }
  },
  "cells": [
    {
      "cell_type": "markdown",
      "metadata": {
        "id": "view-in-github",
        "colab_type": "text"
      },
      "source": [
        "<a href=\"https://colab.research.google.com/github/shalujha/Titanic-Survivor-Prediction/blob/main/Titanic_Survival_Prediction.ipynb\" target=\"_parent\"><img src=\"https://colab.research.google.com/assets/colab-badge.svg\" alt=\"Open In Colab\"/></a>"
      ]
    },
    {
      "cell_type": "code",
      "metadata": {
        "colab": {
          "base_uri": "https://localhost:8080/"
        },
        "id": "NM1OKIwYJahl",
        "outputId": "8ef833f5-1ab5-48ae-e3a6-f46a4005483f"
      },
      "source": [
        "!wget https://www.dropbox.com/s/qxa6zowdlvn3ier/titanic.zip?dl=0"
      ],
      "execution_count": null,
      "outputs": [
        {
          "output_type": "stream",
          "text": [
            "--2021-02-10 18:58:10--  https://www.dropbox.com/s/qxa6zowdlvn3ier/titanic.zip?dl=0\n",
            "Resolving www.dropbox.com (www.dropbox.com)... 162.125.65.18, 2620:100:6027:18::a27d:4812\n",
            "Connecting to www.dropbox.com (www.dropbox.com)|162.125.65.18|:443... connected.\n",
            "HTTP request sent, awaiting response... 301 Moved Permanently\n",
            "Location: /s/raw/qxa6zowdlvn3ier/titanic.zip [following]\n",
            "--2021-02-10 18:58:11--  https://www.dropbox.com/s/raw/qxa6zowdlvn3ier/titanic.zip\n",
            "Reusing existing connection to www.dropbox.com:443.\n",
            "HTTP request sent, awaiting response... 302 Found\n",
            "Location: https://uc3c0cc31a3d562544fa8956ab4c.dl.dropboxusercontent.com/cd/0/inline/BIuAq0BOqXl_CYcJxHjq01MiS3625671ysMjgMtOYOKoWzEXWlSK1U_-g5410nEjAaYFUHuGrOevXBm0HcSa4zD3mur2KNFSiEMT1cB7AT-h3qOc5PXx9p-25QvPdXJjZqc/file# [following]\n",
            "--2021-02-10 18:58:11--  https://uc3c0cc31a3d562544fa8956ab4c.dl.dropboxusercontent.com/cd/0/inline/BIuAq0BOqXl_CYcJxHjq01MiS3625671ysMjgMtOYOKoWzEXWlSK1U_-g5410nEjAaYFUHuGrOevXBm0HcSa4zD3mur2KNFSiEMT1cB7AT-h3qOc5PXx9p-25QvPdXJjZqc/file\n",
            "Resolving uc3c0cc31a3d562544fa8956ab4c.dl.dropboxusercontent.com (uc3c0cc31a3d562544fa8956ab4c.dl.dropboxusercontent.com)... 162.125.67.15, 2620:100:6027:15::a27d:480f\n",
            "Connecting to uc3c0cc31a3d562544fa8956ab4c.dl.dropboxusercontent.com (uc3c0cc31a3d562544fa8956ab4c.dl.dropboxusercontent.com)|162.125.67.15|:443... connected.\n",
            "HTTP request sent, awaiting response... 302 Found\n",
            "Location: /cd/0/inline2/BIvkcIVThmoe9sxXI59G_nhraJBbuCaX5lEaUd5uJZynI_du-48Pg3IUFFlhNfc4NjgdVmFNNApq29_AT3nv0jVO9j5-0jCmY8up3eNfTmv9JZxbDw5QuVBvKk12ptrJbwxioM5mFrLrwkwuSnS-oA9z_RDb108AYqAqvRxGsRuNMHq3-1U809RKBJtJyVLndI4HD_Pil-WjhPoLRmDE_lRYfa3Z9kfnTGpFDRmLY89yw8_JX0_d6HhOVj_q2orOwUmZOU6kAzBm2m_RsDiJh8_lWDNl7iwgNP56bFhabTRWbI-oruSmXbXOAwEVOz1LCAPV2e6PMlE0Puq6ejiR7miPIsunFjO5tbjRKMk_J4fTaA/file [following]\n",
            "--2021-02-10 18:58:12--  https://uc3c0cc31a3d562544fa8956ab4c.dl.dropboxusercontent.com/cd/0/inline2/BIvkcIVThmoe9sxXI59G_nhraJBbuCaX5lEaUd5uJZynI_du-48Pg3IUFFlhNfc4NjgdVmFNNApq29_AT3nv0jVO9j5-0jCmY8up3eNfTmv9JZxbDw5QuVBvKk12ptrJbwxioM5mFrLrwkwuSnS-oA9z_RDb108AYqAqvRxGsRuNMHq3-1U809RKBJtJyVLndI4HD_Pil-WjhPoLRmDE_lRYfa3Z9kfnTGpFDRmLY89yw8_JX0_d6HhOVj_q2orOwUmZOU6kAzBm2m_RsDiJh8_lWDNl7iwgNP56bFhabTRWbI-oruSmXbXOAwEVOz1LCAPV2e6PMlE0Puq6ejiR7miPIsunFjO5tbjRKMk_J4fTaA/file\n",
            "Reusing existing connection to uc3c0cc31a3d562544fa8956ab4c.dl.dropboxusercontent.com:443.\n",
            "HTTP request sent, awaiting response... 200 OK\n",
            "Length: 34877 (34K) [application/zip]\n",
            "Saving to: ‘titanic.zip?dl=0’\n",
            "\n",
            "titanic.zip?dl=0    100%[===================>]  34.06K  --.-KB/s    in 0.08s   \n",
            "\n",
            "2021-02-10 18:58:12 (421 KB/s) - ‘titanic.zip?dl=0’ saved [34877/34877]\n",
            "\n"
          ],
          "name": "stdout"
        }
      ]
    },
    {
      "cell_type": "code",
      "metadata": {
        "colab": {
          "base_uri": "https://localhost:8080/"
        },
        "id": "1h2ia_PdJxUO",
        "outputId": "dbe310bf-d9c7-4b95-bd3d-785132eebf2b"
      },
      "source": [
        "!unzip 'titanic.zip?dl=0' -d \"data/\""
      ],
      "execution_count": null,
      "outputs": [
        {
          "output_type": "stream",
          "text": [
            "Archive:  titanic.zip?dl=0\n",
            "  inflating: data/gender_submission.csv  \n",
            "  inflating: data/test.csv           \n",
            "  inflating: data/train.csv          \n"
          ],
          "name": "stdout"
        }
      ]
    },
    {
      "cell_type": "code",
      "metadata": {
        "id": "t8ERXiNQJ4qW"
      },
      "source": [
        "import pandas as pd\n",
        "import seaborn as sns\n",
        "import matplotlib.pyplot as plt\n",
        "import numpy as np\n",
        "from sklearn.ensemble import RandomForestClassifier\n",
        "from sklearn.tree import DecisionTreeClassifier\n",
        "from sklearn.neighbors import KNeighborsClassifier\n",
        "from sklearn.linear_model import LogisticRegression\n",
        "from xgboost.sklearn import XGBClassifier\n",
        "from sklearn.naive_bayes import GaussianNB\n",
        "from sklearn.svm import SVC\n",
        "from sklearn.svm import LinearSVC\n",
        "from sklearn.linear_model import Perceptron\n",
        "from sklearn.linear_model import SGDClassifier\n",
        "from sklearn.ensemble import GradientBoostingClassifier\n",
        "from sklearn.model_selection import cross_val_score"
      ],
      "execution_count": null,
      "outputs": []
    },
    {
      "cell_type": "code",
      "metadata": {
        "id": "YF1TKrZ5E93-"
      },
      "source": [
        "import warnings\n",
        "warnings.filterwarnings('ignore')"
      ],
      "execution_count": null,
      "outputs": []
    },
    {
      "cell_type": "code",
      "metadata": {
        "id": "of7Nl3HqKTsI"
      },
      "source": [
        "pd.set_option('display.max_columns', None)"
      ],
      "execution_count": null,
      "outputs": []
    },
    {
      "cell_type": "code",
      "metadata": {
        "colab": {
          "base_uri": "https://localhost:8080/"
        },
        "id": "F-HX0wGAKFQA",
        "outputId": "8e17bdfe-b186-47bc-bd7d-9698c59d76f5"
      },
      "source": [
        "train_df=pd.read_csv('/content/data/train.csv')\n",
        "test_df=pd.read_csv('/content/data/test.csv')\n",
        "print(train_df.head())"
      ],
      "execution_count": null,
      "outputs": [
        {
          "output_type": "stream",
          "text": [
            "   PassengerId  Survived  Pclass  \\\n",
            "0            1         0       3   \n",
            "1            2         1       1   \n",
            "2            3         1       3   \n",
            "3            4         1       1   \n",
            "4            5         0       3   \n",
            "\n",
            "                                                Name     Sex   Age  SibSp  \\\n",
            "0                            Braund, Mr. Owen Harris    male  22.0      1   \n",
            "1  Cumings, Mrs. John Bradley (Florence Briggs Th...  female  38.0      1   \n",
            "2                             Heikkinen, Miss. Laina  female  26.0      0   \n",
            "3       Futrelle, Mrs. Jacques Heath (Lily May Peel)  female  35.0      1   \n",
            "4                           Allen, Mr. William Henry    male  35.0      0   \n",
            "\n",
            "   Parch            Ticket     Fare Cabin Embarked  \n",
            "0      0         A/5 21171   7.2500   NaN        S  \n",
            "1      0          PC 17599  71.2833   C85        C  \n",
            "2      0  STON/O2. 3101282   7.9250   NaN        S  \n",
            "3      0            113803  53.1000  C123        S  \n",
            "4      0            373450   8.0500   NaN        S  \n"
          ],
          "name": "stdout"
        }
      ]
    },
    {
      "cell_type": "code",
      "metadata": {
        "colab": {
          "base_uri": "https://localhost:8080/"
        },
        "id": "tRwd5it18DcA",
        "outputId": "bfc8493a-3186-4c63-8b5c-edc664e70539"
      },
      "source": [
        "input_features=['Sex','Age','Name','Ticket','Pclass','Fare','SibSp']\n",
        "print(input_features)\n",
        "output_features=['Survived']"
      ],
      "execution_count": null,
      "outputs": [
        {
          "output_type": "stream",
          "text": [
            "['Sex', 'Age', 'Name', 'Ticket', 'Pclass', 'Fare', 'SibSp']\n"
          ],
          "name": "stdout"
        }
      ]
    },
    {
      "cell_type": "code",
      "metadata": {
        "colab": {
          "base_uri": "https://localhost:8080/"
        },
        "id": "NQSvyQ_NKRWY",
        "outputId": "6d47b12e-d19c-4c0f-f650-c5be8dc1ee8b"
      },
      "source": [
        "# number of null values in each column:\n",
        "train_df.isnull().sum()"
      ],
      "execution_count": null,
      "outputs": [
        {
          "output_type": "execute_result",
          "data": {
            "text/plain": [
              "PassengerId      0\n",
              "Survived         0\n",
              "Pclass           0\n",
              "Name             0\n",
              "Sex              0\n",
              "Age            177\n",
              "SibSp            0\n",
              "Parch            0\n",
              "Ticket           0\n",
              "Fare             0\n",
              "Cabin          687\n",
              "Embarked         2\n",
              "dtype: int64"
            ]
          },
          "metadata": {
            "tags": []
          },
          "execution_count": 8
        }
      ]
    },
    {
      "cell_type": "code",
      "metadata": {
        "colab": {
          "base_uri": "https://localhost:8080/",
          "height": 386
        },
        "id": "pFkEcSSFKfj_",
        "outputId": "3f294f18-638e-424b-c1c9-c66b31982f6b"
      },
      "source": [
        "sns.displot(train_df, x=\"Age\",kde=True)"
      ],
      "execution_count": null,
      "outputs": [
        {
          "output_type": "execute_result",
          "data": {
            "text/plain": [
              "<seaborn.axisgrid.FacetGrid at 0x7f7c94b650f0>"
            ]
          },
          "metadata": {
            "tags": []
          },
          "execution_count": 9
        },
        {
          "output_type": "display_data",
          "data": {
            "image/png": "[encoded data removed]",
            "text/plain": [
              "<Figure size 360x360 with 1 Axes>"
            ]
          },
          "metadata": {
            "tags": [],
            "needs_background": "light"
          }
        }
      ]
    },
    {
      "cell_type": "code",
      "metadata": {
        "colab": {
          "base_uri": "https://localhost:8080/",
          "height": 279
        },
        "id": "Wn5X92_o0W9X",
        "outputId": "24b6a4aa-9500-43a0-95fb-1498b2f8292b"
      },
      "source": [
        "# As we can see, there are some outliers in Age column, so we cant impute mean , we will have to impute median.\n",
        "sns.boxplot(x=train_df['Age'])\n",
        "plt.show()"
      ],
      "execution_count": null,
      "outputs": [
        {
          "output_type": "display_data",
          "data": {
            "image/png": "[encoded data removed]",
            "text/plain": [
              "<Figure size 432x288 with 1 Axes>"
            ]
          },
          "metadata": {
            "tags": [],
            "needs_background": "light"
          }
        }
      ]
    },
    {
      "cell_type": "code",
      "metadata": {
        "id": "0e10Xfdr2PhT"
      },
      "source": [
        "train_df['Age']=train_df['Age'].fillna(train_df['Age'].median())"
      ],
      "execution_count": null,
      "outputs": []
    },
    {
      "cell_type": "code",
      "metadata": {
        "colab": {
          "base_uri": "https://localhost:8080/"
        },
        "id": "ya7wrufC24oj",
        "outputId": "073b1957-8b31-41dc-fee5-d72d1e0ef6cd"
      },
      "source": [
        "train_df.info()"
      ],
      "execution_count": null,
      "outputs": [
        {
          "output_type": "stream",
          "text": [
            "<class 'pandas.core.frame.DataFrame'>\n",
            "RangeIndex: 891 entries, 0 to 890\n",
            "Data columns (total 12 columns):\n",
            " #   Column       Non-Null Count  Dtype  \n",
            "---  ------       --------------  -----  \n",
            " 0   PassengerId  891 non-null    int64  \n",
            " 1   Survived     891 non-null    int64  \n",
            " 2   Pclass       891 non-null    int64  \n",
            " 3   Name         891 non-null    object \n",
            " 4   Sex          891 non-null    object \n",
            " 5   Age          891 non-null    float64\n",
            " 6   SibSp        891 non-null    int64  \n",
            " 7   Parch        891 non-null    int64  \n",
            " 8   Ticket       891 non-null    object \n",
            " 9   Fare         891 non-null    float64\n",
            " 10  Cabin        204 non-null    object \n",
            " 11  Embarked     889 non-null    object \n",
            "dtypes: float64(2), int64(5), object(5)\n",
            "memory usage: 83.7+ KB\n"
          ],
          "name": "stdout"
        }
      ]
    },
    {
      "cell_type": "code",
      "metadata": {
        "id": "IeeYtL3j27Qt"
      },
      "source": [
        "train_df['Cabin']=train_df['Cabin'].fillna('Missing')"
      ],
      "execution_count": null,
      "outputs": []
    },
    {
      "cell_type": "code",
      "metadata": {
        "id": "hbND-rAh3lhV"
      },
      "source": [
        "train_df['Embarked']=train_df['Embarked'].fillna(str(train_df['Embarked'].mode()))"
      ],
      "execution_count": null,
      "outputs": []
    },
    {
      "cell_type": "code",
      "metadata": {
        "colab": {
          "base_uri": "https://localhost:8080/"
        },
        "id": "B_i3xC5Y31L6",
        "outputId": "565a0106-980c-46dc-9a18-fae249ef4dee"
      },
      "source": [
        "train_df.info()\n",
        "print(train_df.loc[train_df['Embarked'].isnull()])"
      ],
      "execution_count": null,
      "outputs": [
        {
          "output_type": "stream",
          "text": [
            "<class 'pandas.core.frame.DataFrame'>\n",
            "RangeIndex: 891 entries, 0 to 890\n",
            "Data columns (total 12 columns):\n",
            " #   Column       Non-Null Count  Dtype  \n",
            "---  ------       --------------  -----  \n",
            " 0   PassengerId  891 non-null    int64  \n",
            " 1   Survived     891 non-null    int64  \n",
            " 2   Pclass       891 non-null    int64  \n",
            " 3   Name         891 non-null    object \n",
            " 4   Sex          891 non-null    object \n",
            " 5   Age          891 non-null    float64\n",
            " 6   SibSp        891 non-null    int64  \n",
            " 7   Parch        891 non-null    int64  \n",
            " 8   Ticket       891 non-null    object \n",
            " 9   Fare         891 non-null    float64\n",
            " 10  Cabin        891 non-null    object \n",
            " 11  Embarked     891 non-null    object \n",
            "dtypes: float64(2), int64(5), object(5)\n",
            "memory usage: 83.7+ KB\n",
            "Empty DataFrame\n",
            "Columns: [PassengerId, Survived, Pclass, Name, Sex, Age, SibSp, Parch, Ticket, Fare, Cabin, Embarked]\n",
            "Index: []\n"
          ],
          "name": "stdout"
        }
      ]
    },
    {
      "cell_type": "code",
      "metadata": {
        "colab": {
          "base_uri": "https://localhost:8080/",
          "height": 337
        },
        "id": "8zgQCA0k33N_",
        "outputId": "9fbe2a9e-b834-4759-b2bf-d7264d8838ba"
      },
      "source": [
        "sns.heatmap(train_df.corr(),annot=True)"
      ],
      "execution_count": null,
      "outputs": [
        {
          "output_type": "execute_result",
          "data": {
            "text/plain": [
              "<matplotlib.axes._subplots.AxesSubplot at 0x7f7c8bacf518>"
            ]
          },
          "metadata": {
            "tags": []
          },
          "execution_count": 16
        },
        {
          "output_type": "display_data",
          "data": {
            "image/png": "[encoded data removed]",
            "text/plain": [
              "<Figure size 432x288 with 2 Axes>"
            ]
          },
          "metadata": {
            "tags": [],
            "needs_background": "light"
          }
        }
      ]
    },
    {
      "cell_type": "code",
      "metadata": {
        "id": "Cxhv5Qse4LwK"
      },
      "source": [
        "categorical_features=[]\n",
        "for col in train_df.columns:\n",
        "  if train_df[col].dtype=='object':\n",
        "    categorical_features.append(col)"
      ],
      "execution_count": null,
      "outputs": []
    },
    {
      "cell_type": "code",
      "metadata": {
        "colab": {
          "base_uri": "https://localhost:8080/"
        },
        "id": "8gosT7YIniaO",
        "outputId": "c4486b5b-2d44-4089-f41c-1f6811ab37e1"
      },
      "source": [
        "train_df.info()"
      ],
      "execution_count": null,
      "outputs": [
        {
          "output_type": "stream",
          "text": [
            "<class 'pandas.core.frame.DataFrame'>\n",
            "RangeIndex: 891 entries, 0 to 890\n",
            "Data columns (total 12 columns):\n",
            " #   Column       Non-Null Count  Dtype  \n",
            "---  ------       --------------  -----  \n",
            " 0   PassengerId  891 non-null    int64  \n",
            " 1   Survived     891 non-null    int64  \n",
            " 2   Pclass       891 non-null    int64  \n",
            " 3   Name         891 non-null    object \n",
            " 4   Sex          891 non-null    object \n",
            " 5   Age          891 non-null    float64\n",
            " 6   SibSp        891 non-null    int64  \n",
            " 7   Parch        891 non-null    int64  \n",
            " 8   Ticket       891 non-null    object \n",
            " 9   Fare         891 non-null    float64\n",
            " 10  Cabin        891 non-null    object \n",
            " 11  Embarked     891 non-null    object \n",
            "dtypes: float64(2), int64(5), object(5)\n",
            "memory usage: 83.7+ KB\n"
          ],
          "name": "stdout"
        }
      ]
    },
    {
      "cell_type": "code",
      "metadata": {
        "colab": {
          "base_uri": "https://localhost:8080/"
        },
        "id": "UflEuNZq5RGI",
        "outputId": "cdfad2d4-2cb5-43f0-b72a-11a3a7db1b38"
      },
      "source": [
        "print(len(categorical_features))"
      ],
      "execution_count": null,
      "outputs": [
        {
          "output_type": "stream",
          "text": [
            "5\n"
          ],
          "name": "stdout"
        }
      ]
    },
    {
      "cell_type": "code",
      "metadata": {
        "id": "f2iKWKPE5S9H"
      },
      "source": [
        "from sklearn.preprocessing import LabelEncoder\n",
        "le=LabelEncoder()\n",
        "for col in categorical_features:\n",
        "  train_df[col]=le.fit_transform(train_df[col])"
      ],
      "execution_count": null,
      "outputs": []
    },
    {
      "cell_type": "code",
      "metadata": {
        "colab": {
          "base_uri": "https://localhost:8080/",
          "height": 195
        },
        "id": "R--4xj2d520U",
        "outputId": "35bcdbfb-c79a-4812-bd69-45effae15d9f"
      },
      "source": [
        "train_df.head()"
      ],
      "execution_count": null,
      "outputs": [
        {
          "output_type": "execute_result",
          "data": {
            "text/html": [
              "<div>\n",
              "<style scoped>\n",
              "    .dataframe tbody tr th:only-of-type {\n",
              "        vertical-align: middle;\n",
              "    }\n",
              "\n",
              "    .dataframe tbody tr th {\n",
              "        vertical-align: top;\n",
              "    }\n",
              "\n",
              "    .dataframe thead th {\n",
              "        text-align: right;\n",
              "    }\n",
              "</style>\n",
              "<table border=\"1\" class=\"dataframe\">\n",
              "  <thead>\n",
              "    <tr style=\"text-align: right;\">\n",
              "      <th></th>\n",
              "      <th>PassengerId</th>\n",
              "      <th>Survived</th>\n",
              "      <th>Pclass</th>\n",
              "      <th>Name</th>\n",
              "      <th>Sex</th>\n",
              "      <th>Age</th>\n",
              "      <th>SibSp</th>\n",
              "      <th>Parch</th>\n",
              "      <th>Ticket</th>\n",
              "      <th>Fare</th>\n",
              "      <th>Cabin</th>\n",
              "      <th>Embarked</th>\n",
              "    </tr>\n",
              "  </thead>\n",
              "  <tbody>\n",
              "    <tr>\n",
              "      <th>0</th>\n",
              "      <td>1</td>\n",
              "      <td>0</td>\n",
              "      <td>3</td>\n",
              "      <td>108</td>\n",
              "      <td>1</td>\n",
              "      <td>22.0</td>\n",
              "      <td>1</td>\n",
              "      <td>0</td>\n",
              "      <td>523</td>\n",
              "      <td>7.2500</td>\n",
              "      <td>146</td>\n",
              "      <td>3</td>\n",
              "    </tr>\n",
              "    <tr>\n",
              "      <th>1</th>\n",
              "      <td>2</td>\n",
              "      <td>1</td>\n",
              "      <td>1</td>\n",
              "      <td>190</td>\n",
              "      <td>0</td>\n",
              "      <td>38.0</td>\n",
              "      <td>1</td>\n",
              "      <td>0</td>\n",
              "      <td>596</td>\n",
              "      <td>71.2833</td>\n",
              "      <td>81</td>\n",
              "      <td>1</td>\n",
              "    </tr>\n",
              "    <tr>\n",
              "      <th>2</th>\n",
              "      <td>3</td>\n",
              "      <td>1</td>\n",
              "      <td>3</td>\n",
              "      <td>353</td>\n",
              "      <td>0</td>\n",
              "      <td>26.0</td>\n",
              "      <td>0</td>\n",
              "      <td>0</td>\n",
              "      <td>669</td>\n",
              "      <td>7.9250</td>\n",
              "      <td>146</td>\n",
              "      <td>3</td>\n",
              "    </tr>\n",
              "    <tr>\n",
              "      <th>3</th>\n",
              "      <td>4</td>\n",
              "      <td>1</td>\n",
              "      <td>1</td>\n",
              "      <td>272</td>\n",
              "      <td>0</td>\n",
              "      <td>35.0</td>\n",
              "      <td>1</td>\n",
              "      <td>0</td>\n",
              "      <td>49</td>\n",
              "      <td>53.1000</td>\n",
              "      <td>55</td>\n",
              "      <td>3</td>\n",
              "    </tr>\n",
              "    <tr>\n",
              "      <th>4</th>\n",
              "      <td>5</td>\n",
              "      <td>0</td>\n",
              "      <td>3</td>\n",
              "      <td>15</td>\n",
              "      <td>1</td>\n",
              "      <td>35.0</td>\n",
              "      <td>0</td>\n",
              "      <td>0</td>\n",
              "      <td>472</td>\n",
              "      <td>8.0500</td>\n",
              "      <td>146</td>\n",
              "      <td>3</td>\n",
              "    </tr>\n",
              "  </tbody>\n",
              "</table>\n",
              "</div>"
            ],
            "text/plain": [
              "   PassengerId  Survived  Pclass  Name  Sex   Age  SibSp  Parch  Ticket  \\\n",
              "0            1         0       3   108    1  22.0      1      0     523   \n",
              "1            2         1       1   190    0  38.0      1      0     596   \n",
              "2            3         1       3   353    0  26.0      0      0     669   \n",
              "3            4         1       1   272    0  35.0      1      0      49   \n",
              "4            5         0       3    15    1  35.0      0      0     472   \n",
              "\n",
              "      Fare  Cabin  Embarked  \n",
              "0   7.2500    146         3  \n",
              "1  71.2833     81         1  \n",
              "2   7.9250    146         3  \n",
              "3  53.1000     55         3  \n",
              "4   8.0500    146         3  "
            ]
          },
          "metadata": {
            "tags": []
          },
          "execution_count": 21
        }
      ]
    },
    {
      "cell_type": "code",
      "metadata": {
        "colab": {
          "base_uri": "https://localhost:8080/"
        },
        "id": "v_nYfr4s6Cym",
        "outputId": "945c2ed6-99e5-4b54-db92-5eb90a674581"
      },
      "source": [
        "test_df.info()"
      ],
      "execution_count": null,
      "outputs": [
        {
          "output_type": "stream",
          "text": [
            "<class 'pandas.core.frame.DataFrame'>\n",
            "RangeIndex: 418 entries, 0 to 417\n",
            "Data columns (total 11 columns):\n",
            " #   Column       Non-Null Count  Dtype  \n",
            "---  ------       --------------  -----  \n",
            " 0   PassengerId  418 non-null    int64  \n",
            " 1   Pclass       418 non-null    int64  \n",
            " 2   Name         418 non-null    object \n",
            " 3   Sex          418 non-null    object \n",
            " 4   Age          332 non-null    float64\n",
            " 5   SibSp        418 non-null    int64  \n",
            " 6   Parch        418 non-null    int64  \n",
            " 7   Ticket       418 non-null    object \n",
            " 8   Fare         417 non-null    float64\n",
            " 9   Cabin        91 non-null     object \n",
            " 10  Embarked     418 non-null    object \n",
            "dtypes: float64(2), int64(4), object(5)\n",
            "memory usage: 36.0+ KB\n"
          ],
          "name": "stdout"
        }
      ]
    },
    {
      "cell_type": "code",
      "metadata": {
        "id": "RoyNntDj6KTB"
      },
      "source": [
        "# clean test data too:\n",
        "test_df['Age']=test_df['Age'].fillna(test_df['Age'].median())"
      ],
      "execution_count": null,
      "outputs": []
    },
    {
      "cell_type": "code",
      "metadata": {
        "colab": {
          "base_uri": "https://localhost:8080/",
          "height": 279
        },
        "id": "6EWqbnjE6XVU",
        "outputId": "204abed2-3e50-44f8-c361-e70c48ed4a8a"
      },
      "source": [
        "sns.boxplot(x=test_df['Fare'])\n",
        "plt.show()"
      ],
      "execution_count": null,
      "outputs": [
        {
          "output_type": "display_data",
          "data": {
            "image/png": "[encoded data removed]",
            "text/plain": [
              "<Figure size 432x288 with 1 Axes>"
            ]
          },
          "metadata": {
            "tags": [],
            "needs_background": "light"
          }
        }
      ]
    },
    {
      "cell_type": "code",
      "metadata": {
        "colab": {
          "base_uri": "https://localhost:8080/"
        },
        "id": "xNJT1bWd6gtp",
        "outputId": "faf18566-676b-42f1-b7e1-43fcc57d4f1b"
      },
      "source": [
        "test_df['Fare']=test_df['Fare'].fillna(test_df['Fare'].median())\n",
        "test_df['Cabin']=test_df['Cabin'].fillna(str(test_df['Cabin'].mode()))\n",
        "test_df.info()"
      ],
      "execution_count": null,
      "outputs": [
        {
          "output_type": "stream",
          "text": [
            "<class 'pandas.core.frame.DataFrame'>\n",
            "RangeIndex: 418 entries, 0 to 417\n",
            "Data columns (total 11 columns):\n",
            " #   Column       Non-Null Count  Dtype  \n",
            "---  ------       --------------  -----  \n",
            " 0   PassengerId  418 non-null    int64  \n",
            " 1   Pclass       418 non-null    int64  \n",
            " 2   Name         418 non-null    object \n",
            " 3   Sex          418 non-null    object \n",
            " 4   Age          418 non-null    float64\n",
            " 5   SibSp        418 non-null    int64  \n",
            " 6   Parch        418 non-null    int64  \n",
            " 7   Ticket       418 non-null    object \n",
            " 8   Fare         418 non-null    float64\n",
            " 9   Cabin        418 non-null    object \n",
            " 10  Embarked     418 non-null    object \n",
            "dtypes: float64(2), int64(4), object(5)\n",
            "memory usage: 36.0+ KB\n"
          ],
          "name": "stdout"
        }
      ]
    },
    {
      "cell_type": "code",
      "metadata": {
        "id": "G5Ad3H3C7TVv"
      },
      "source": [
        "for col in categorical_features:\n",
        "  test_df[col]=le.fit_transform(test_df[col])"
      ],
      "execution_count": null,
      "outputs": []
    },
    {
      "cell_type": "code",
      "metadata": {
        "id": "aUNIdUGY9gHv"
      },
      "source": [
        "X=train_df[input_features]\n",
        "Y=train_df[output_features]\n",
        "test_df=test_df[input_features]"
      ],
      "execution_count": null,
      "outputs": []
    },
    {
      "cell_type": "code",
      "metadata": {
        "colab": {
          "base_uri": "https://localhost:8080/"
        },
        "id": "ppsVYSRk--05",
        "outputId": "18acd827-a5a4-4a75-d3bf-d26a84783e5e"
      },
      "source": [
        "from sklearn.model_selection import train_test_split\n",
        "X_train,X_test,Y_train,Y_test=train_test_split(X,Y,test_size=0.2,shuffle=True,random_state=6)\n",
        "print(X_train.shape,Y_train.shape,X_test.shape,Y_test.shape)"
      ],
      "execution_count": null,
      "outputs": [
        {
          "output_type": "stream",
          "text": [
            "(712, 7) (712, 1) (179, 7) (179, 1)\n"
          ],
          "name": "stdout"
        }
      ]
    },
    {
      "cell_type": "code",
      "metadata": {
        "colab": {
          "base_uri": "https://localhost:8080/"
        },
        "id": "De8rmoXwKWiC",
        "outputId": "af89ea77-3daa-4aab-b224-847c9d8f729b"
      },
      "source": [
        "lr=LogisticRegression()\n",
        "dt=DecisionTreeClassifier()\n",
        "rf=RandomForestClassifier()\n",
        "knn=KNeighborsClassifier()\n",
        "xgb=XGBClassifier()\n",
        "gnb=GaussianNB()\n",
        "svc=SVC()\n",
        "linear_svc=LinearSVC()\n",
        "gradient=GradientBoostingClassifier()\n",
        "perceptron=Perceptron()\n",
        "sgd=SGDClassifier()\n",
        "svc.fit(X_train,Y_train)\n",
        "linear_svc.fit(X_train,Y_train)\n",
        "gradient.fit(X_train,Y_train)\n",
        "perceptron.fit(X_train,Y_train)\n",
        "sgd.fit(X_train,Y_train)\n",
        "xgb.fit(X_train,Y_train)\n",
        "lr.fit(X_train,Y_train)\n",
        "dt.fit(X_train,Y_train)\n",
        "rf.fit(X_train,Y_train)\n",
        "knn.fit(X_train,Y_train)\n",
        "gnb.fit(X_train,Y_train)\n",
        "print(lr.score(X_test,Y_test),dt.score(X_test,Y_test),rf.score(X_test,Y_test),knn.score(X_test,Y_test),xgb.score(X_test,Y_test),gnb.score(X_test,Y_test),svc.score(X_test,Y_test),\n",
        "      linear_svc.score(X_test,Y_test),gradient.score(X_test,Y_test),perceptron.score(X_test,Y_test),sgd.score(X_test,Y_test))"
      ],
      "execution_count": null,
      "outputs": [
        {
          "output_type": "stream",
          "text": [
            "0.8603351955307262 0.776536312849162 0.8435754189944135 0.6815642458100558 0.8715083798882681 0.8435754189944135 0.7039106145251397 0.5363128491620112 0.8770949720670391 0.6759776536312849 0.659217877094972\n"
          ],
          "name": "stdout"
        }
      ]
    },
    {
      "cell_type": "code",
      "metadata": {
        "colab": {
          "base_uri": "https://localhost:8080/"
        },
        "id": "vtNhYSdkTx9I",
        "outputId": "61883e75-b114-43a4-8816-4ae19a7e6d6e"
      },
      "source": [
        "print(dt.score(X_train,Y_train))\n",
        "path=dt.cost_complexity_pruning_path(X_train,Y_train)\n",
        "alphas=path['ccp_alphas'][:-1]\n",
        "print(alphas)"
      ],
      "execution_count": null,
      "outputs": [
        {
          "output_type": "stream",
          "text": [
            "1.0\n",
            "[0.         0.00092256 0.00093633 0.0011236  0.00117041 0.00124844\n",
            " 0.00124844 0.00126404 0.00127681 0.00127681 0.00128745 0.00132188\n",
            " 0.00132647 0.00138649 0.00140449 0.00149813 0.00158999 0.00162787\n",
            " 0.00162986 0.00168539 0.00181538 0.00187266 0.0019975  0.00204312\n",
            " 0.00210674 0.00210674 0.00224719 0.00234082 0.00236546 0.00238764\n",
            " 0.0024077  0.0024077  0.0024077  0.00241397 0.00249688 0.00249688\n",
            " 0.00252538 0.00253307 0.00270867 0.00271267 0.00277454 0.00278062\n",
            " 0.00294944 0.00298715 0.00310004 0.00403748 0.00488722 0.00556849\n",
            " 0.00786985 0.01456638 0.01520347 0.03618333]\n"
          ],
          "name": "stdout"
        }
      ]
    },
    {
      "cell_type": "code",
      "metadata": {
        "id": "d_EnPaz0UD-P"
      },
      "source": [
        "scores=[]\n",
        "for alpha in alphas:\n",
        "  dt=DecisionTreeClassifier(ccp_alpha=alpha)\n",
        "  scores.append(cross_val_score(dt,X,Y,cv=10).mean())"
      ],
      "execution_count": null,
      "outputs": []
    },
    {
      "cell_type": "code",
      "metadata": {
        "colab": {
          "base_uri": "https://localhost:8080/"
        },
        "id": "EvHcy3_wUl5x",
        "outputId": "4eaf0a0a-6799-4024-ad82-161bf328f877"
      },
      "source": [
        "print(scores[np.argmax(scores)])"
      ],
      "execution_count": null,
      "outputs": [
        {
          "output_type": "stream",
          "text": [
            "0.8215480649188514\n"
          ],
          "name": "stdout"
        }
      ]
    },
    {
      "cell_type": "code",
      "metadata": {
        "colab": {
          "base_uri": "https://localhost:8080/"
        },
        "id": "64nC6GF5UrRo",
        "outputId": "8a32455c-6569-459f-c1e2-4e6e45d66a63"
      },
      "source": [
        "dt=DecisionTreeClassifier(ccp_alpha=alphas[np.argmax(scores)])\n",
        "dt.fit(X_train,Y_train)\n",
        "print(dt.score(X_train,Y_train))\n",
        "print(dt.score(X_test,Y_test))"
      ],
      "execution_count": null,
      "outputs": [
        {
          "output_type": "stream",
          "text": [
            "0.8033707865168539\n",
            "0.8212290502793296\n"
          ],
          "name": "stdout"
        }
      ]
    },
    {
      "cell_type": "code",
      "metadata": {
        "id": "5cYKBJVaLNRE"
      },
      "source": [
        "predictions=dt.predict(test_df)\n",
        "Id=np.arange(892,892+len(predictions))\n",
        "Id=np.asarray(Id)\n",
        "predictions=np.asarray(predictions)\n",
        "Id=Id.reshape((Id.shape[0],1))\n",
        "predictions=predictions.reshape((predictions.shape[0],1))\n",
        "data=np.concatenate((Id,predictions),axis=1)\n",
        "result_df=pd.DataFrame(data,columns=['PassengerId','Survived'])\n",
        "result_df.to_csv('result.csv',index=False)"
      ],
      "execution_count": null,
      "outputs": []
    },
    {
      "cell_type": "code",
      "metadata": {
        "id": "t8-os3rL57Vq"
      },
      "source": [
        "# Dimensionality Reduction\n",
        "from sklearn.preprocessing import StandardScaler\n",
        "from sklearn.decomposition import PCA"
      ],
      "execution_count": null,
      "outputs": []
    },
    {
      "cell_type": "code",
      "metadata": {
        "colab": {
          "base_uri": "https://localhost:8080/"
        },
        "id": "Bh14u37U7ETh",
        "outputId": "17267180-2402-41b2-a5d6-3833b70bbeaf"
      },
      "source": [
        "scaler=StandardScaler()\n",
        "X_train=scaler.fit_transform(X_train)\n",
        "X_test=scaler.fit_transform(X_test)\n",
        "test_df=scaler.fit_transform(test_df)\n",
        "print(X_train.shape,X_test.shape)"
      ],
      "execution_count": null,
      "outputs": [
        {
          "output_type": "stream",
          "text": [
            "(712, 5) (179, 5)\n"
          ],
          "name": "stdout"
        }
      ]
    },
    {
      "cell_type": "code",
      "metadata": {
        "colab": {
          "base_uri": "https://localhost:8080/"
        },
        "id": "CoIwRXdR7Pjb",
        "outputId": "db0e93f6-1c72-46d0-aa2f-a3950704b1f9"
      },
      "source": [
        "pca=PCA(n_components=0.96)\n",
        "X_train=pca.fit_transform(X_train)\n",
        "X_test=pca.fit_transform(X_test)\n",
        "print(X_train.shape,X_test.shape)"
      ],
      "execution_count": null,
      "outputs": [
        {
          "output_type": "stream",
          "text": [
            "(712, 10) (179, 10)\n"
          ],
          "name": "stdout"
        }
      ]
    },
    {
      "cell_type": "code",
      "metadata": {
        "id": "aV-PNNqi78Y-"
      },
      "source": [
        "X_train=X_train[:,:6]\n",
        "X_test=X_test[:,:6]"
      ],
      "execution_count": null,
      "outputs": []
    },
    {
      "cell_type": "code",
      "metadata": {
        "colab": {
          "base_uri": "https://localhost:8080/"
        },
        "id": "_AvnuC3h-Hac",
        "outputId": "fa07a98f-c0d3-450b-c8f9-bc88a2725f44"
      },
      "source": [
        "dt=DecisionTreeClassifier(max_depth=4)\n",
        "dt.fit(X_train,Y_train)"
      ],
      "execution_count": null,
      "outputs": [
        {
          "output_type": "execute_result",
          "data": {
            "text/plain": [
              "DecisionTreeClassifier(ccp_alpha=0.0, class_weight=None, criterion='gini',\n",
              "                       max_depth=4, max_features=None, max_leaf_nodes=None,\n",
              "                       min_impurity_decrease=0.0, min_impurity_split=None,\n",
              "                       min_samples_leaf=1, min_samples_split=2,\n",
              "                       min_weight_fraction_leaf=0.0, presort='deprecated',\n",
              "                       random_state=None, splitter='best')"
            ]
          },
          "metadata": {
            "tags": []
          },
          "execution_count": 580
        }
      ]
    },
    {
      "cell_type": "code",
      "metadata": {
        "colab": {
          "base_uri": "https://localhost:8080/"
        },
        "id": "K6s-_Qp7-Rpx",
        "outputId": "1daa861e-a460-45e4-9929-84d5e87894d3"
      },
      "source": [
        "dt.score(X_test,Y_test)\n",
        "#print(X_test.shape)\n",
        "#print(Y_test.shape)"
      ],
      "execution_count": null,
      "outputs": [
        {
          "output_type": "execute_result",
          "data": {
            "text/plain": [
              "0.7541899441340782"
            ]
          },
          "metadata": {
            "tags": []
          },
          "execution_count": 581
        }
      ]
    },
    {
      "cell_type": "code",
      "metadata": {
        "id": "NrD94R96_KjJ"
      },
      "source": [
        "acc_list=[]\n",
        "for i in range(1,100):\n",
        "  rf=RandomForestClassifier(n_estimators=i)\n",
        "  rf.fit(X_train,Y_train)\n",
        "  acc_list.append(rf.score(X_test,Y_test))"
      ],
      "execution_count": null,
      "outputs": []
    },
    {
      "cell_type": "code",
      "metadata": {
        "colab": {
          "base_uri": "https://localhost:8080/"
        },
        "id": "u__apwErECCi",
        "outputId": "580912fb-87fa-4b45-8ccf-3e453bd57bc1"
      },
      "source": [
        "print(acc_list[np.argmax(acc_list)])"
      ],
      "execution_count": null,
      "outputs": [
        {
          "output_type": "stream",
          "text": [
            "0.8044692737430168\n"
          ],
          "name": "stdout"
        }
      ]
    },
    {
      "cell_type": "code",
      "metadata": {
        "colab": {
          "base_uri": "https://localhost:8080/"
        },
        "id": "7tQ1DwWBGSzJ",
        "outputId": "3c70adbd-2cfa-47d6-bf19-a0b8862b16e0"
      },
      "source": [
        "print(np.argmax(acc_list))"
      ],
      "execution_count": null,
      "outputs": [
        {
          "output_type": "stream",
          "text": [
            "17\n"
          ],
          "name": "stdout"
        }
      ]
    },
    {
      "cell_type": "code",
      "metadata": {
        "id": "VryEGRIgEw9x"
      },
      "source": [
        "test_df=pca.fit_transform(test_df)\n",
        "test_df=test_df[:,:6]"
      ],
      "execution_count": null,
      "outputs": []
    },
    {
      "cell_type": "code",
      "metadata": {
        "colab": {
          "base_uri": "https://localhost:8080/"
        },
        "id": "eNFSVq8MGHmE",
        "outputId": "529a01a2-727d-43c5-9da8-26aabc88383e"
      },
      "source": [
        "rf==RandomForestClassifier(n_estimators=17)\n",
        "rf.fit(X_train,Y_train)"
      ],
      "execution_count": null,
      "outputs": [
        {
          "output_type": "execute_result",
          "data": {
            "text/plain": [
              "RandomForestClassifier(bootstrap=True, ccp_alpha=0.0, class_weight=None,\n",
              "                       criterion='gini', max_depth=None, max_features='auto',\n",
              "                       max_leaf_nodes=None, max_samples=None,\n",
              "                       min_impurity_decrease=0.0, min_impurity_split=None,\n",
              "                       min_samples_leaf=1, min_samples_split=2,\n",
              "                       min_weight_fraction_leaf=0.0, n_estimators=99,\n",
              "                       n_jobs=None, oob_score=False, random_state=None,\n",
              "                       verbose=0, warm_start=False)"
            ]
          },
          "metadata": {
            "tags": []
          },
          "execution_count": 587
        }
      ]
    },
    {
      "cell_type": "code",
      "metadata": {
        "id": "op5QZpRJGYuM"
      },
      "source": [
        "predictions=rf.predict(test_df)"
      ],
      "execution_count": null,
      "outputs": []
    },
    {
      "cell_type": "code",
      "metadata": {
        "colab": {
          "base_uri": "https://localhost:8080/"
        },
        "id": "dDUdrdMGGcaz",
        "outputId": "a7043e66-fdd5-4e2a-f03f-5e9e75b7f139"
      },
      "source": [
        "print(predictions)"
      ],
      "execution_count": null,
      "outputs": [
        {
          "output_type": "stream",
          "text": [
            "[0 0 0 0 1 0 0 1 0 0 0 0 1 0 1 0 0 0 0 1 0 0 0 0 0 0 1 0 0 1 0 0 0 0 0 0 0\n",
            " 1 0 0 0 1 0 0 1 0 0 0 0 0 1 0 1 1 0 0 0 0 0 1 0 0 0 0 0 0 0 0 0 1 0 0 0 0\n",
            " 1 0 0 1 0 0 0 0 0 0 0 0 0 0 0 1 1 0 1 0 0 0 1 0 0 0 0 1 0 0 1 0 0 0 0 0 1\n",
            " 0 0 0 0 0 0 1 0 0 0 0 1 0 0 1 0 0 0 0 0 0 0 1 0 0 0 0 0 0 0 1 1 0 0 1 1 0\n",
            " 0 1 1 0 0 1 1 0 1 0 0 0 0 0 0 0 0 1 0 0 1 0 0 0 0 0 1 1 0 1 1 1 0 1 1 0 1\n",
            " 0 0 0 1 0 0 0 0 0 1 0 1 0 0 0 0 1 1 1 0 0 0 0 0 0 0 0 0 1 1 0 0 1 1 0 0 0\n",
            " 1 0 0 1 0 0 0 0 0 1 0 0 1 0 1 0 1 1 0 1 1 0 0 1 1 1 1 1 0 0 1 0 0 0 0 0 1\n",
            " 0 0 0 1 0 0 0 0 0 0 0 0 0 1 0 0 1 0 0 0 0 1 1 1 0 0 0 0 1 1 0 0 1 0 1 0 0\n",
            " 0 1 0 0 0 1 0 0 0 1 1 1 1 1 0 0 0 1 0 0 0 0 0 1 0 1 1 0 1 0 1 0 0 0 1 0 0\n",
            " 1 0 0 0 1 0 0 0 0 1 1 0 1 0 0 0 0 1 0 0 1 1 1 1 0 0 1 1 1 1 0 1 1 0 1 1 0\n",
            " 1 1 0 0 1 1 1 0 1 0 0 0 0 0 0 1 0 0 0 1 1 1 1 0 1 1 0 1 0 0 1 0 1 1 1 0 1\n",
            " 1 1 1 1 1 0 0 0 0 0 1]\n"
          ],
          "name": "stdout"
        }
      ]
    },
    {
      "cell_type": "code",
      "metadata": {
        "colab": {
          "base_uri": "https://localhost:8080/"
        },
        "id": "LxgpwHkiHXFM",
        "outputId": "178c460a-123c-441d-fb15-2498cc9012ba"
      },
      "source": [
        "Id=np.arange(892,892+len(predictions))\n",
        "print(Id)"
      ],
      "execution_count": null,
      "outputs": [
        {
          "output_type": "stream",
          "text": [
            "[ 892  893  894  895  896  897  898  899  900  901  902  903  904  905\n",
            "  906  907  908  909  910  911  912  913  914  915  916  917  918  919\n",
            "  920  921  922  923  924  925  926  927  928  929  930  931  932  933\n",
            "  934  935  936  937  938  939  940  941  942  943  944  945  946  947\n",
            "  948  949  950  951  952  953  954  955  956  957  958  959  960  961\n",
            "  962  963  964  965  966  967  968  969  970  971  972  973  974  975\n",
            "  976  977  978  979  980  981  982  983  984  985  986  987  988  989\n",
            "  990  991  992  993  994  995  996  997  998  999 1000 1001 1002 1003\n",
            " 1004 1005 1006 1007 1008 1009 1010 1011 1012 1013 1014 1015 1016 1017\n",
            " 1018 1019 1020 1021 1022 1023 1024 1025 1026 1027 1028 1029 1030 1031\n",
            " 1032 1033 1034 1035 1036 1037 1038 1039 1040 1041 1042 1043 1044 1045\n",
            " 1046 1047 1048 1049 1050 1051 1052 1053 1054 1055 1056 1057 1058 1059\n",
            " 1060 1061 1062 1063 1064 1065 1066 1067 1068 1069 1070 1071 1072 1073\n",
            " 1074 1075 1076 1077 1078 1079 1080 1081 1082 1083 1084 1085 1086 1087\n",
            " 1088 1089 1090 1091 1092 1093 1094 1095 1096 1097 1098 1099 1100 1101\n",
            " 1102 1103 1104 1105 1106 1107 1108 1109 1110 1111 1112 1113 1114 1115\n",
            " 1116 1117 1118 1119 1120 1121 1122 1123 1124 1125 1126 1127 1128 1129\n",
            " 1130 1131 1132 1133 1134 1135 1136 1137 1138 1139 1140 1141 1142 1143\n",
            " 1144 1145 1146 1147 1148 1149 1150 1151 1152 1153 1154 1155 1156 1157\n",
            " 1158 1159 1160 1161 1162 1163 1164 1165 1166 1167 1168 1169 1170 1171\n",
            " 1172 1173 1174 1175 1176 1177 1178 1179 1180 1181 1182 1183 1184 1185\n",
            " 1186 1187 1188 1189 1190 1191 1192 1193 1194 1195 1196 1197 1198 1199\n",
            " 1200 1201 1202 1203 1204 1205 1206 1207 1208 1209 1210 1211 1212 1213\n",
            " 1214 1215 1216 1217 1218 1219 1220 1221 1222 1223 1224 1225 1226 1227\n",
            " 1228 1229 1230 1231 1232 1233 1234 1235 1236 1237 1238 1239 1240 1241\n",
            " 1242 1243 1244 1245 1246 1247 1248 1249 1250 1251 1252 1253 1254 1255\n",
            " 1256 1257 1258 1259 1260 1261 1262 1263 1264 1265 1266 1267 1268 1269\n",
            " 1270 1271 1272 1273 1274 1275 1276 1277 1278 1279 1280 1281 1282 1283\n",
            " 1284 1285 1286 1287 1288 1289 1290 1291 1292 1293 1294 1295 1296 1297\n",
            " 1298 1299 1300 1301 1302 1303 1304 1305 1306 1307 1308 1309]\n"
          ],
          "name": "stdout"
        }
      ]
    },
    {
      "cell_type": "code",
      "metadata": {
        "id": "OnY5mAUEH5QG"
      },
      "source": [
        "Id=np.asarray(Id)\n",
        "predictions=np.asarray(predictions)\n",
        "Id=Id.reshape((Id.shape[0],1))\n",
        "predictions=predictions.reshape((predictions.shape[0],1))"
      ],
      "execution_count": null,
      "outputs": []
    },
    {
      "cell_type": "code",
      "metadata": {
        "id": "8DNeN79LG_6c"
      },
      "source": [
        "data=np.concatenate((Id,predictions),axis=1)"
      ],
      "execution_count": null,
      "outputs": []
    },
    {
      "cell_type": "code",
      "metadata": {
        "colab": {
          "base_uri": "https://localhost:8080/"
        },
        "id": "lVk1IBrAILnk",
        "outputId": "9fc9e082-0f44-4604-d3a4-7bc7fdd9326b"
      },
      "source": [
        "print(data)"
      ],
      "execution_count": null,
      "outputs": [
        {
          "output_type": "stream",
          "text": [
            "[[ 892    0]\n",
            " [ 893    0]\n",
            " [ 894    0]\n",
            " [ 895    0]\n",
            " [ 896    1]\n",
            " [ 897    0]\n",
            " [ 898    0]\n",
            " [ 899    1]\n",
            " [ 900    0]\n",
            " [ 901    0]\n",
            " [ 902    0]\n",
            " [ 903    0]\n",
            " [ 904    1]\n",
            " [ 905    0]\n",
            " [ 906    1]\n",
            " [ 907    0]\n",
            " [ 908    0]\n",
            " [ 909    0]\n",
            " [ 910    0]\n",
            " [ 911    1]\n",
            " [ 912    0]\n",
            " [ 913    0]\n",
            " [ 914    0]\n",
            " [ 915    0]\n",
            " [ 916    0]\n",
            " [ 917    0]\n",
            " [ 918    1]\n",
            " [ 919    0]\n",
            " [ 920    0]\n",
            " [ 921    1]\n",
            " [ 922    0]\n",
            " [ 923    0]\n",
            " [ 924    0]\n",
            " [ 925    0]\n",
            " [ 926    0]\n",
            " [ 927    0]\n",
            " [ 928    0]\n",
            " [ 929    1]\n",
            " [ 930    0]\n",
            " [ 931    0]\n",
            " [ 932    0]\n",
            " [ 933    1]\n",
            " [ 934    0]\n",
            " [ 935    0]\n",
            " [ 936    1]\n",
            " [ 937    0]\n",
            " [ 938    0]\n",
            " [ 939    0]\n",
            " [ 940    0]\n",
            " [ 941    0]\n",
            " [ 942    1]\n",
            " [ 943    0]\n",
            " [ 944    1]\n",
            " [ 945    1]\n",
            " [ 946    0]\n",
            " [ 947    0]\n",
            " [ 948    0]\n",
            " [ 949    0]\n",
            " [ 950    0]\n",
            " [ 951    1]\n",
            " [ 952    0]\n",
            " [ 953    0]\n",
            " [ 954    0]\n",
            " [ 955    0]\n",
            " [ 956    0]\n",
            " [ 957    0]\n",
            " [ 958    0]\n",
            " [ 959    0]\n",
            " [ 960    0]\n",
            " [ 961    1]\n",
            " [ 962    0]\n",
            " [ 963    0]\n",
            " [ 964    0]\n",
            " [ 965    0]\n",
            " [ 966    1]\n",
            " [ 967    0]\n",
            " [ 968    0]\n",
            " [ 969    1]\n",
            " [ 970    0]\n",
            " [ 971    0]\n",
            " [ 972    0]\n",
            " [ 973    0]\n",
            " [ 974    0]\n",
            " [ 975    0]\n",
            " [ 976    0]\n",
            " [ 977    0]\n",
            " [ 978    0]\n",
            " [ 979    0]\n",
            " [ 980    0]\n",
            " [ 981    1]\n",
            " [ 982    1]\n",
            " [ 983    0]\n",
            " [ 984    1]\n",
            " [ 985    0]\n",
            " [ 986    0]\n",
            " [ 987    0]\n",
            " [ 988    1]\n",
            " [ 989    0]\n",
            " [ 990    0]\n",
            " [ 991    0]\n",
            " [ 992    0]\n",
            " [ 993    1]\n",
            " [ 994    0]\n",
            " [ 995    0]\n",
            " [ 996    1]\n",
            " [ 997    0]\n",
            " [ 998    0]\n",
            " [ 999    0]\n",
            " [1000    0]\n",
            " [1001    0]\n",
            " [1002    1]\n",
            " [1003    0]\n",
            " [1004    0]\n",
            " [1005    0]\n",
            " [1006    0]\n",
            " [1007    0]\n",
            " [1008    0]\n",
            " [1009    1]\n",
            " [1010    0]\n",
            " [1011    0]\n",
            " [1012    0]\n",
            " [1013    0]\n",
            " [1014    1]\n",
            " [1015    0]\n",
            " [1016    0]\n",
            " [1017    1]\n",
            " [1018    0]\n",
            " [1019    0]\n",
            " [1020    0]\n",
            " [1021    0]\n",
            " [1022    0]\n",
            " [1023    0]\n",
            " [1024    0]\n",
            " [1025    1]\n",
            " [1026    0]\n",
            " [1027    0]\n",
            " [1028    0]\n",
            " [1029    0]\n",
            " [1030    0]\n",
            " [1031    0]\n",
            " [1032    0]\n",
            " [1033    1]\n",
            " [1034    1]\n",
            " [1035    0]\n",
            " [1036    0]\n",
            " [1037    1]\n",
            " [1038    1]\n",
            " [1039    0]\n",
            " [1040    0]\n",
            " [1041    1]\n",
            " [1042    1]\n",
            " [1043    0]\n",
            " [1044    0]\n",
            " [1045    1]\n",
            " [1046    1]\n",
            " [1047    0]\n",
            " [1048    1]\n",
            " [1049    0]\n",
            " [1050    0]\n",
            " [1051    0]\n",
            " [1052    0]\n",
            " [1053    0]\n",
            " [1054    0]\n",
            " [1055    0]\n",
            " [1056    0]\n",
            " [1057    1]\n",
            " [1058    0]\n",
            " [1059    0]\n",
            " [1060    1]\n",
            " [1061    0]\n",
            " [1062    0]\n",
            " [1063    0]\n",
            " [1064    0]\n",
            " [1065    0]\n",
            " [1066    1]\n",
            " [1067    1]\n",
            " [1068    0]\n",
            " [1069    1]\n",
            " [1070    1]\n",
            " [1071    1]\n",
            " [1072    0]\n",
            " [1073    1]\n",
            " [1074    1]\n",
            " [1075    0]\n",
            " [1076    1]\n",
            " [1077    0]\n",
            " [1078    0]\n",
            " [1079    0]\n",
            " [1080    1]\n",
            " [1081    0]\n",
            " [1082    0]\n",
            " [1083    0]\n",
            " [1084    0]\n",
            " [1085    0]\n",
            " [1086    1]\n",
            " [1087    0]\n",
            " [1088    1]\n",
            " [1089    0]\n",
            " [1090    0]\n",
            " [1091    0]\n",
            " [1092    0]\n",
            " [1093    1]\n",
            " [1094    1]\n",
            " [1095    1]\n",
            " [1096    0]\n",
            " [1097    0]\n",
            " [1098    0]\n",
            " [1099    0]\n",
            " [1100    0]\n",
            " [1101    0]\n",
            " [1102    0]\n",
            " [1103    0]\n",
            " [1104    0]\n",
            " [1105    1]\n",
            " [1106    1]\n",
            " [1107    0]\n",
            " [1108    0]\n",
            " [1109    1]\n",
            " [1110    1]\n",
            " [1111    0]\n",
            " [1112    0]\n",
            " [1113    0]\n",
            " [1114    1]\n",
            " [1115    0]\n",
            " [1116    0]\n",
            " [1117    1]\n",
            " [1118    0]\n",
            " [1119    0]\n",
            " [1120    0]\n",
            " [1121    0]\n",
            " [1122    0]\n",
            " [1123    1]\n",
            " [1124    0]\n",
            " [1125    0]\n",
            " [1126    1]\n",
            " [1127    0]\n",
            " [1128    1]\n",
            " [1129    0]\n",
            " [1130    1]\n",
            " [1131    1]\n",
            " [1132    0]\n",
            " [1133    1]\n",
            " [1134    1]\n",
            " [1135    0]\n",
            " [1136    0]\n",
            " [1137    1]\n",
            " [1138    1]\n",
            " [1139    1]\n",
            " [1140    1]\n",
            " [1141    1]\n",
            " [1142    0]\n",
            " [1143    0]\n",
            " [1144    1]\n",
            " [1145    0]\n",
            " [1146    0]\n",
            " [1147    0]\n",
            " [1148    0]\n",
            " [1149    0]\n",
            " [1150    1]\n",
            " [1151    0]\n",
            " [1152    0]\n",
            " [1153    0]\n",
            " [1154    1]\n",
            " [1155    0]\n",
            " [1156    0]\n",
            " [1157    0]\n",
            " [1158    0]\n",
            " [1159    0]\n",
            " [1160    0]\n",
            " [1161    0]\n",
            " [1162    0]\n",
            " [1163    0]\n",
            " [1164    1]\n",
            " [1165    0]\n",
            " [1166    0]\n",
            " [1167    1]\n",
            " [1168    0]\n",
            " [1169    0]\n",
            " [1170    0]\n",
            " [1171    0]\n",
            " [1172    1]\n",
            " [1173    1]\n",
            " [1174    1]\n",
            " [1175    0]\n",
            " [1176    0]\n",
            " [1177    0]\n",
            " [1178    0]\n",
            " [1179    1]\n",
            " [1180    1]\n",
            " [1181    0]\n",
            " [1182    0]\n",
            " [1183    1]\n",
            " [1184    0]\n",
            " [1185    1]\n",
            " [1186    0]\n",
            " [1187    0]\n",
            " [1188    0]\n",
            " [1189    1]\n",
            " [1190    0]\n",
            " [1191    0]\n",
            " [1192    0]\n",
            " [1193    1]\n",
            " [1194    0]\n",
            " [1195    0]\n",
            " [1196    0]\n",
            " [1197    1]\n",
            " [1198    1]\n",
            " [1199    1]\n",
            " [1200    1]\n",
            " [1201    1]\n",
            " [1202    0]\n",
            " [1203    0]\n",
            " [1204    0]\n",
            " [1205    1]\n",
            " [1206    0]\n",
            " [1207    0]\n",
            " [1208    0]\n",
            " [1209    0]\n",
            " [1210    0]\n",
            " [1211    1]\n",
            " [1212    0]\n",
            " [1213    1]\n",
            " [1214    1]\n",
            " [1215    0]\n",
            " [1216    1]\n",
            " [1217    0]\n",
            " [1218    1]\n",
            " [1219    0]\n",
            " [1220    0]\n",
            " [1221    0]\n",
            " [1222    1]\n",
            " [1223    0]\n",
            " [1224    0]\n",
            " [1225    1]\n",
            " [1226    0]\n",
            " [1227    0]\n",
            " [1228    0]\n",
            " [1229    1]\n",
            " [1230    0]\n",
            " [1231    0]\n",
            " [1232    0]\n",
            " [1233    0]\n",
            " [1234    1]\n",
            " [1235    1]\n",
            " [1236    0]\n",
            " [1237    1]\n",
            " [1238    0]\n",
            " [1239    0]\n",
            " [1240    0]\n",
            " [1241    0]\n",
            " [1242    1]\n",
            " [1243    0]\n",
            " [1244    0]\n",
            " [1245    1]\n",
            " [1246    1]\n",
            " [1247    1]\n",
            " [1248    1]\n",
            " [1249    0]\n",
            " [1250    0]\n",
            " [1251    1]\n",
            " [1252    1]\n",
            " [1253    1]\n",
            " [1254    1]\n",
            " [1255    0]\n",
            " [1256    1]\n",
            " [1257    1]\n",
            " [1258    0]\n",
            " [1259    1]\n",
            " [1260    1]\n",
            " [1261    0]\n",
            " [1262    1]\n",
            " [1263    1]\n",
            " [1264    0]\n",
            " [1265    0]\n",
            " [1266    1]\n",
            " [1267    1]\n",
            " [1268    1]\n",
            " [1269    0]\n",
            " [1270    1]\n",
            " [1271    0]\n",
            " [1272    0]\n",
            " [1273    0]\n",
            " [1274    0]\n",
            " [1275    0]\n",
            " [1276    0]\n",
            " [1277    1]\n",
            " [1278    0]\n",
            " [1279    0]\n",
            " [1280    0]\n",
            " [1281    1]\n",
            " [1282    1]\n",
            " [1283    1]\n",
            " [1284    1]\n",
            " [1285    0]\n",
            " [1286    1]\n",
            " [1287    1]\n",
            " [1288    0]\n",
            " [1289    1]\n",
            " [1290    0]\n",
            " [1291    0]\n",
            " [1292    1]\n",
            " [1293    0]\n",
            " [1294    1]\n",
            " [1295    1]\n",
            " [1296    1]\n",
            " [1297    0]\n",
            " [1298    1]\n",
            " [1299    1]\n",
            " [1300    1]\n",
            " [1301    1]\n",
            " [1302    1]\n",
            " [1303    1]\n",
            " [1304    0]\n",
            " [1305    0]\n",
            " [1306    0]\n",
            " [1307    0]\n",
            " [1308    0]\n",
            " [1309    1]]\n"
          ],
          "name": "stdout"
        }
      ]
    },
    {
      "cell_type": "code",
      "metadata": {
        "id": "BO4m94SbGd8j"
      },
      "source": [
        "result_df=pd.DataFrame(data,columns=['PassengerId','Survived'])"
      ],
      "execution_count": null,
      "outputs": []
    },
    {
      "cell_type": "code",
      "metadata": {
        "colab": {
          "base_uri": "https://localhost:8080/"
        },
        "id": "bNLaLPEZIQHP",
        "outputId": "89d38ec2-2500-43d9-a040-f5a8c2cf1c9d"
      },
      "source": [
        "print(result_df.head())"
      ],
      "execution_count": null,
      "outputs": [
        {
          "output_type": "stream",
          "text": [
            "   PassengerId  Survived\n",
            "0          892         0\n",
            "1          893         0\n",
            "2          894         0\n",
            "3          895         0\n",
            "4          896         1\n"
          ],
          "name": "stdout"
        }
      ]
    },
    {
      "cell_type": "code",
      "metadata": {
        "id": "rIgGFKdlISAW"
      },
      "source": [
        "result_df.to_csv('result.csv',index=False)"
      ],
      "execution_count": null,
      "outputs": []
    },
    {
      "cell_type": "code",
      "metadata": {
        "id": "fE4WE4PLIXyq"
      },
      "source": [
        ""
      ],
      "execution_count": null,
      "outputs": []
    }
  ]
}